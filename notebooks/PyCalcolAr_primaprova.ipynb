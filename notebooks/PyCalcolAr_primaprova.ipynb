{
 "cells": [
  {
   "cell_type": "markdown",
   "metadata": {},
   "source": [
    "Created on Tue Nov  3 22:01:35 2020\n",
    "\n",
    "@author: teresa"
   ]
  },
  {
   "cell_type": "code",
   "execution_count": 5,
   "metadata": {},
   "outputs": [],
   "source": [
    "import pandas as pd\n",
    "import math\n",
    "import numpy as np"
   ]
  },
  {
   "cell_type": "markdown",
   "metadata": {},
   "source": [
    "creo il foglio AIR_PIPETTE"
   ]
  },
  {
   "cell_type": "code",
   "execution_count": 6,
   "metadata": {},
   "outputs": [
    {
     "name": "stdout",
     "output_type": "stream",
     "text": [
      "AIR_PIPETTE\n"
     ]
    }
   ],
   "source": [
    "print(\"AIR_PIPETTE\")"
   ]
  },
  {
   "cell_type": "markdown",
   "metadata": {},
   "source": [
    "importo file run.triplo36 (air_pipette)"
   ]
  },
  {
   "cell_type": "code",
   "execution_count": 7,
   "metadata": {},
   "outputs": [],
   "source": [
    "colNamesInitData=['40F', 'err40F', '38IC0', 'err38IC0', '36IC1', 'err36IC1', '36IC0', 'err36IC0','36F', 'err 36F', 'gain IC0/IC1', 'err gain IC0/IC1', 'gain F/IC1', 'err gain F/IC1' , 'gain F/IC0', 'err gain F/IC0', '40F/36IC1', 'err 40F/36IC1 ', '40F/36F', 'err 40F/36F', '40F/36IC0', 'err 40F/36IC0' , '38IC0/36IC0', 'err 38IC0/36IC0', 'Run', 'Path']"
   ]
  },
  {
   "cell_type": "code",
   "execution_count": 8,
   "metadata": {},
   "outputs": [],
   "source": [
    "filePath = \"../test_data/Triplo36esempio.txt\"\n",
    "# filePath = \"C:\\\\Users\\\\teres\\\\Documents\\\\PyCalcolAr\\\\test_data\\\\Triplo36esempio.txt\""
   ]
  },
  {
   "cell_type": "code",
   "execution_count": 9,
   "metadata": {},
   "outputs": [
    {
     "data": {
      "text/html": [
       "<div>\n",
       "<style scoped>\n",
       "    .dataframe tbody tr th:only-of-type {\n",
       "        vertical-align: middle;\n",
       "    }\n",
       "\n",
       "    .dataframe tbody tr th {\n",
       "        vertical-align: top;\n",
       "    }\n",
       "\n",
       "    .dataframe thead th {\n",
       "        text-align: right;\n",
       "    }\n",
       "</style>\n",
       "<table border=\"1\" class=\"dataframe\">\n",
       "  <thead>\n",
       "    <tr style=\"text-align: right;\">\n",
       "      <th></th>\n",
       "      <th>40F</th>\n",
       "      <th>err40F</th>\n",
       "      <th>38IC0</th>\n",
       "      <th>err38IC0</th>\n",
       "      <th>36IC1</th>\n",
       "      <th>err36IC1</th>\n",
       "      <th>36IC0</th>\n",
       "      <th>err36IC0</th>\n",
       "      <th>36F</th>\n",
       "      <th>err 36F</th>\n",
       "      <th>...</th>\n",
       "      <th>40F/36IC1</th>\n",
       "      <th>err 40F/36IC1</th>\n",
       "      <th>40F/36F</th>\n",
       "      <th>err 40F/36F</th>\n",
       "      <th>40F/36IC0</th>\n",
       "      <th>err 40F/36IC0</th>\n",
       "      <th>38IC0/36IC0</th>\n",
       "      <th>err 38IC0/36IC0</th>\n",
       "      <th>Run</th>\n",
       "      <th>Path</th>\n",
       "    </tr>\n",
       "  </thead>\n",
       "  <tbody>\n",
       "    <tr>\n",
       "      <th>0</th>\n",
       "      <td>1.61572</td>\n",
       "      <td>{ 2.3e-04 }</td>\n",
       "      <td>49808.5</td>\n",
       "      <td>{ 7.4e+01 }</td>\n",
       "      <td>291482.0</td>\n",
       "      <td>{ 2.3e+02 }</td>\n",
       "      <td>270719.0</td>\n",
       "      <td>{ 2.4e+02 }</td>\n",
       "      <td>339160.0</td>\n",
       "      <td>{ 1.2e+03 }</td>\n",
       "      <td>...</td>\n",
       "      <td>345.973</td>\n",
       "      <td>{ 2.7e-01 }</td>\n",
       "      <td>297.338</td>\n",
       "      <td>{ 1.0e+00 }</td>\n",
       "      <td>372.508</td>\n",
       "      <td>{ 3.3e-01 }</td>\n",
       "      <td>0.183986</td>\n",
       "      <td>{ 3.2e-04 }</td>\n",
       "      <td>'Sample Name' run on 14 September 2020 at 11:39</td>\n",
       "      <td>Raw data stored in - C:\\Nu Noble\\Results\\Data...</td>\n",
       "    </tr>\n",
       "  </tbody>\n",
       "</table>\n",
       "<p>1 rows × 26 columns</p>\n",
       "</div>"
      ],
      "text/plain": [
       "       40F         err40F    38IC0       err38IC0     36IC1       err36IC1  \\\n",
       "0  1.61572   { 2.3e-04 }   49808.5   { 7.4e+01 }   291482.0   { 2.3e+02 }    \n",
       "\n",
       "      36IC0       err36IC0       36F        err 36F  ...  40F/36IC1  \\\n",
       "0  270719.0   { 2.4e+02 }   339160.0   { 1.2e+03 }   ...    345.973   \n",
       "\n",
       "  err 40F/36IC1   40F/36F    err 40F/36F  40F/36IC0  err 40F/36IC0  \\\n",
       "0   { 2.7e-01 }   297.338   { 1.0e+00 }     372.508   { 3.3e-01 }    \n",
       "\n",
       "   38IC0/36IC0 err 38IC0/36IC0  \\\n",
       "0     0.183986    { 3.2e-04 }    \n",
       "\n",
       "                                               Run  \\\n",
       "0  'Sample Name' run on 14 September 2020 at 11:39   \n",
       "\n",
       "                                                Path  \n",
       "0   Raw data stored in - C:\\Nu Noble\\Results\\Data...  \n",
       "\n",
       "[1 rows x 26 columns]"
      ]
     },
     "execution_count": 9,
     "metadata": {},
     "output_type": "execute_result"
    }
   ],
   "source": [
    "airpipette_initData = pd.read_csv(filePath, header = None, names = colNamesInitData)\n",
    "airpipette_initData"
   ]
  },
  {
   "cell_type": "markdown",
   "metadata": {},
   "source": [
    "creo un nuovo dataframe con le colonne utili"
   ]
  },
  {
   "cell_type": "code",
   "execution_count": 21,
   "metadata": {},
   "outputs": [
    {
     "name": "stdout",
     "output_type": "stream",
     "text": [
      "       40F         err40F    38IC0       err38IC0     36IC1       err36IC1  \\\n",
      "0  1.61572   { 2.3e-04 }   49808.5   { 7.4e+01 }   291482.0   { 2.3e+02 }    \n",
      "\n",
      "      36IC0       err36IC0       36F        err 36F  \n",
      "0  270719.0   { 2.4e+02 }   339160.0   { 1.2e+03 }   \n",
      "       40F       err40F    38IC0     err38IC0     36IC1     err36IC1  \\\n",
      "0  1.61572    2.3e-04    49808.5    7.4e+01    291482.0    2.3e+02     \n",
      "\n",
      "      36IC0     err36IC0       36F      err 36F  \n",
      "0  270719.0    2.4e+02    339160.0    1.2e+03    \n"
     ]
    },
    {
     "data": {
      "text/html": [
       "<div>\n",
       "<style scoped>\n",
       "    .dataframe tbody tr th:only-of-type {\n",
       "        vertical-align: middle;\n",
       "    }\n",
       "\n",
       "    .dataframe tbody tr th {\n",
       "        vertical-align: top;\n",
       "    }\n",
       "\n",
       "    .dataframe thead th {\n",
       "        text-align: right;\n",
       "    }\n",
       "</style>\n",
       "<table border=\"1\" class=\"dataframe\">\n",
       "  <thead>\n",
       "    <tr style=\"text-align: right;\">\n",
       "      <th></th>\n",
       "      <th>40F</th>\n",
       "      <th>err40F</th>\n",
       "      <th>38IC0</th>\n",
       "      <th>err38IC0</th>\n",
       "      <th>36IC1</th>\n",
       "      <th>err36IC1</th>\n",
       "      <th>36IC0</th>\n",
       "      <th>err36IC0</th>\n",
       "      <th>36F</th>\n",
       "      <th>err 36F</th>\n",
       "    </tr>\n",
       "  </thead>\n",
       "  <tbody>\n",
       "    <tr>\n",
       "      <th>0</th>\n",
       "      <td>1.61572</td>\n",
       "      <td>2.3e-04</td>\n",
       "      <td>49808.5</td>\n",
       "      <td>7.4e+01</td>\n",
       "      <td>291482.0</td>\n",
       "      <td>2.3e+02</td>\n",
       "      <td>270719.0</td>\n",
       "      <td>2.4e+02</td>\n",
       "      <td>339160.0</td>\n",
       "      <td>1.2e+03</td>\n",
       "    </tr>\n",
       "  </tbody>\n",
       "</table>\n",
       "</div>"
      ],
      "text/plain": [
       "       40F       err40F    38IC0     err38IC0     36IC1     err36IC1  \\\n",
       "0  1.61572    2.3e-04    49808.5    7.4e+01    291482.0    2.3e+02     \n",
       "\n",
       "      36IC0     err36IC0       36F      err 36F  \n",
       "0  270719.0    2.4e+02    339160.0    1.2e+03    "
      ]
     },
     "execution_count": 21,
     "metadata": {},
     "output_type": "execute_result"
    }
   ],
   "source": [
    "airpipette_utilData = airpipette_initData[['40F', 'err40F', '38IC0', 'err38IC0', '36IC1', 'err36IC1', '36IC0', 'err36IC0','36F', 'err 36F']]\n",
    "print(airpipette_utilData)\n",
    "# airpipette_utilData.replace(to_replace = [\"{\", \"}\"], value = \"\", inplace=True, regex=True)\n",
    "airpipette_utilData = airpipette_utilData.replace([\"{\", \"}\"], [\"\", \"\"], regex=True)\n",
    "print (airpipette_utilData)\n",
    "airpipette_utilData"
   ]
  },
  {
   "cell_type": "markdown",
   "metadata": {},
   "source": [
    "svolgo le operazioni utili che saranno presenti nel file excel (airpipette_Data)"
   ]
  },
  {
   "cell_type": "code",
   "execution_count": 11,
   "metadata": {},
   "outputs": [
    {
     "name": "stdout",
     "output_type": "stream",
     "text": [
      "gain F/IC0:  1.2528119563089402\n"
     ]
    }
   ],
   "source": [
    "# calcolo gain F/IC0\n",
    "A = airpipette_utilData.loc[0,'36F']\n",
    "B = airpipette_utilData.loc[0,'36IC0']\n",
    "gain_F_IC0 = A/B\n",
    "print ('gain F/IC0: ', gain_F_IC0)"
   ]
  },
  {
   "cell_type": "code",
   "execution_count": 12,
   "metadata": {},
   "outputs": [
    {
     "name": "stdout",
     "output_type": "stream",
     "text": [
      "gain F/IC1:  1.1635709923768878\n"
     ]
    }
   ],
   "source": [
    "# calcolo gain F/IC1 \n",
    "A = airpipette_utilData.loc[0,'36F']\n",
    "C = airpipette_utilData.loc[0,'36IC1']\n",
    "gain_F_IC1 = A/C\n",
    "print ('gain F/IC1: ', gain_F_IC1)"
   ]
  },
  {
   "cell_type": "code",
   "execution_count": 13,
   "metadata": {},
   "outputs": [
    {
     "name": "stdout",
     "output_type": "stream",
     "text": [
      "corr_gain_36IC0:  339159.99999999994\n"
     ]
    }
   ],
   "source": [
    "# calcolo 36IC0 correzione gain\n",
    "A = airpipette_utilData.loc[0,'36IC0']\n",
    "corr_gain_36IC0 = A * gain_F_IC0\n",
    "print ('corr_gain_36IC0: ', corr_gain_36IC0) "
   ]
  },
  {
   "cell_type": "code",
   "execution_count": 14,
   "metadata": {},
   "outputs": [
    {
     "name": "stdout",
     "output_type": "stream",
     "text": [
      "corr_40_36:  297.3380227621182\n"
     ]
    }
   ],
   "source": [
    "# calcolo 40/36 correzione\n",
    "A = airpipette_utilData.loc[0,'40F']\n",
    "B = 62415000 \n",
    "corr_40_36 = (A * B) / corr_gain_36IC0\n",
    "print ('corr_40_36: ', corr_40_36)"
   ]
  },
  {
   "cell_type": "code",
   "execution_count": 15,
   "metadata": {},
   "outputs": [
    {
     "name": "stdout",
     "output_type": "stream",
     "text": [
      "source_frax:  0.9959070966040937\n"
     ]
    }
   ],
   "source": [
    "# calcolo source frax\n",
    "A = 298.56\n",
    "source_frax = corr_40_36 / A\n",
    "print ('source_frax: ', source_frax)"
   ]
  },
  {
   "cell_type": "markdown",
   "metadata": {},
   "source": [
    "qui sotto ho cambiato il riferimento alle colonne usando \":\" e \"values\" in modo da poter usare lo stesso codice con file con più riche di dati\n",
    "calcolo gain F/IC0\n",
    "A = airpipette_utilData.loc[:, '36F'].values\n",
    "B = airpipette_utilData.loc[:, '36IC0'].values\n",
    "calcolo gain F/IC1 \n",
    "A = airpipette_utilData.loc[:, '36F'].values\n",
    "C = airpipette_utilData.loc[:, '36IC1'].values"
   ]
  },
  {
   "cell_type": "code",
   "execution_count": 16,
   "metadata": {},
   "outputs": [
    {
     "name": "stdout",
     "output_type": "stream",
     "text": [
      "SAMPLE_DATA\n"
     ]
    }
   ],
   "source": [
    "# Foglio sample_data\n",
    "print (\"SAMPLE_DATA\")"
   ]
  },
  {
   "cell_type": "code",
   "execution_count": 17,
   "metadata": {},
   "outputs": [],
   "source": [
    "# importo file run.4 e creo la lista con i nomi delle colonne \n",
    "colNamesInitData=['40Ar F', 'err40Ar F', '38Ar IC0', 'err38Ar IC0', '36Ar IC1', 'err36Ar IC1','38Ar F', 'err38Ar F','36Ar IC0', 'err36Ar IC0 ', '39Ar F', 'err39Ar F', '37Ar IC0', 'err37Ar IC0' , '35Cl IC1', 'err35Cl IC1', '39Ar IC0',  'err39Ar IC0',  '37Ar IC1', 'err37Ar IC1', 'gainF/IC0', 'err gainF/IC0' , 'gainIC0/IC1', 'err gainIC0/IC1', '40F/36IC1',  'err40F/36IC1',  '40F/36IC0' ,'err40F/36IC0', 'Run', 'Path']"
   ]
  },
  {
   "cell_type": "code",
   "execution_count": 18,
   "metadata": {},
   "outputs": [],
   "source": [
    "filePath = \"../test_data/Run4esempio.txt\"\n",
    "# filePath = \"C:\\\\Users\\\\teres\\\\Documents\\\\PyCalcolAr\\\\test_data\\\\Run4esempio.txt\"\n",
    "df_initData = pd.read_csv(filePath, header = None, names = colNamesInitData)"
   ]
  },
  {
   "cell_type": "code",
   "execution_count": 19,
   "metadata": {},
   "outputs": [],
   "source": [
    "# creo un nuovo dataframe con le colonne utili\n",
    "sampleData_utilData = df_initData[['40Ar F', 'err40Ar F', '38Ar IC0', 'err38Ar IC0', '36Ar IC1', 'err36Ar IC1', '39Ar F', 'err39Ar F','37Ar IC1', 'err37Ar IC1']]"
   ]
  },
  {
   "cell_type": "code",
   "execution_count": 22,
   "metadata": {},
   "outputs": [
    {
     "name": "stdout",
     "output_type": "stream",
     "text": [
      "sampleData_V\n",
      "        40Ar F    err40Ar F  38Ar IC0  err38Ar IC0  36Ar IC1  err36Ar IC1  \\\n",
      "0  4.42550e-01    7.6e-05    0.000263    4.6e-07    0.001265    9.4e-07     \n",
      "1  2.44640e-01    5.5e-05    0.000140    3.1e-07    0.000692    7.7e-07     \n",
      "2  3.33386e-01    8.2e-05    0.000183    3.6e-07    0.000946    8.2e-07     \n",
      "3  3.33774e-01    7.5e-05    0.000177    3.7e-07    0.000945    9.6e-07     \n",
      "4  2.61256e-01    5.4e-05    0.000133    3.6e-07    0.000725    7.3e-07     \n",
      "\n",
      "     39Ar F    err39Ar F  37Ar IC1  err37Ar IC1  \n",
      "0  0.004099    1.8e-05    0.000048    2.0e-07    \n",
      "1  0.001908    1.7e-05    0.000028    1.4e-07    \n",
      "2  0.001700    1.7e-05    0.000030    1.6e-07    \n",
      "3  0.000907    1.5e-05    0.000023    1.3e-07    \n",
      "4  0.000555    1.7e-05    0.000019    1.1e-07    \n",
      "sampleData_mV\n",
      "    40Ar F  err40Ar F  38Ar IC0  err38Ar IC0  36Ar IC1  err36Ar IC1    39Ar F  \\\n",
      "0  442.550      0.076  0.263052      0.00046  1.265110      0.00094  4.098520   \n",
      "1  244.640      0.055  0.139576      0.00031  0.692145      0.00077  1.907850   \n",
      "2  333.386      0.082  0.182711      0.00036  0.945686      0.00082  1.699960   \n",
      "3  333.774      0.075  0.177337      0.00037  0.945372      0.00096  0.907434   \n",
      "4  261.256      0.054  0.133331      0.00036  0.725394      0.00073  0.555253   \n",
      "\n",
      "   err39Ar F  37Ar IC1  err37Ar IC1  \n",
      "0      0.018  0.048414      0.00020  \n",
      "1      0.017  0.028433      0.00014  \n",
      "2      0.017  0.030287      0.00016  \n",
      "3      0.015  0.022657      0.00013  \n",
      "4      0.017  0.019181      0.00011  \n"
     ]
    }
   ],
   "source": [
    "#eliminare ultima riga del dataframe che contiene \"dati sbagliati\"\n",
    "sampleData_V = sampleData_utilData.drop([5]) #da togliere nella versione finale (solo per il file Run4esempio.txt)\n",
    "sampleData_V = sampleData_V.replace([\"{\", \"}\"], [\"\", \"\"], regex=True)\n",
    "print (\"sampleData_V\")\n",
    "print (sampleData_V)\n",
    "sampleData_mV = pd.DataFrame()\n",
    "sampleData_mV [\"40Ar F\"] = pd.to_numeric(sampleData_V [\"40Ar F\"]) * 1000\n",
    "sampleData_mV [\"err40Ar F\"] = pd.to_numeric(sampleData_V [\"err40Ar F\"]) * 1000\n",
    "sampleData_mV [\"38Ar IC0\"] = pd.to_numeric(sampleData_V [\"38Ar IC0\"]) * 1000\n",
    "sampleData_mV [\"err38Ar IC0\"] = pd.to_numeric(sampleData_V [\"err38Ar IC0\"]) * 1000\n",
    "sampleData_mV [\"36Ar IC1\"] = pd.to_numeric(sampleData_V [\"36Ar IC1\"]) * 1000\n",
    "sampleData_mV [\"err36Ar IC1\"] = pd.to_numeric(sampleData_V [\"err36Ar IC1\"]) * 1000\n",
    "sampleData_mV [\"39Ar F\"] = pd.to_numeric(sampleData_V [\"39Ar F\"]) * 1000\n",
    "sampleData_mV [\"err39Ar F\"] = pd.to_numeric(sampleData_V [\"err39Ar F\"]) * 1000\n",
    "sampleData_mV [\"37Ar IC1\"] = pd.to_numeric(sampleData_V [\"37Ar IC1\"]) * 1000\n",
    "sampleData_mV [\"err37Ar IC1\"] = pd.to_numeric(sampleData_V [\"err37Ar IC1\"]) * 1000\n",
    "print(\"sampleData_mV\")\n",
    "print (sampleData_mV)"
   ]
  },
  {
   "cell_type": "code",
   "execution_count": 23,
   "metadata": {},
   "outputs": [
    {
     "name": "stdout",
     "output_type": "stream",
     "text": [
      "sampleData_gain\n",
      "     38Ar F  err38Ar F    36Ar F  err36Ar F    37Ar F  err37Ar F\n",
      "0  0.329555   0.000576  1.472045   0.001094  0.056333   0.000233\n",
      "1  0.174862   0.000388  0.805360   0.000896  0.033084   0.000163\n",
      "2  0.228903   0.000451  1.100373   0.000954  0.035241   0.000186\n",
      "3  0.222170   0.000464  1.100007   0.001117  0.026363   0.000151\n",
      "4  0.167039   0.000451  0.844047   0.000849  0.022318   0.000128\n"
     ]
    }
   ],
   "source": [
    "# applico le correzioni dei gain F/IC0 e F/IC1\n",
    "sampleData_gain = pd.DataFrame()\n",
    "sampleData_gain [\"38Ar F\"] = sampleData_mV [\"38Ar IC0\"] * gain_F_IC0\n",
    "sampleData_gain [\"err38Ar F\"] = sampleData_mV [\"err38Ar IC0\"] * gain_F_IC0\n",
    "sampleData_gain [\"36Ar F\"] = sampleData_mV [\"36Ar IC1\"] * gain_F_IC1\n",
    "sampleData_gain [\"err36Ar F\"] = sampleData_mV [\"err36Ar IC1\"] * gain_F_IC1\n",
    "sampleData_gain [\"37Ar F\"] = sampleData_mV [\"37Ar IC1\"] * gain_F_IC1\n",
    "sampleData_gain [\"err37Ar F\"] = sampleData_mV [\"err37Ar IC1\"] * gain_F_IC1\n",
    "print(\"sampleData_gain\")\n",
    "print (sampleData_gain)"
   ]
  },
  {
   "cell_type": "code",
   "execution_count": 24,
   "metadata": {},
   "outputs": [
    {
     "name": "stdout",
     "output_type": "stream",
     "text": [
      "SUMMARY\n"
     ]
    }
   ],
   "source": [
    "# Foglio summary \n",
    "print(\"SUMMARY\")"
   ]
  },
  {
   "cell_type": "code",
   "execution_count": 25,
   "metadata": {},
   "outputs": [
    {
     "name": "stdout",
     "output_type": "stream",
     "text": [
      "summary_df\n",
      "   40Ar tot F  err40Ar tot F    39Ar F  err39Ar F    38Ar F  err38Ar F  \\\n",
      "0     442.550          0.076  4.098520      0.018  0.329555   0.000576   \n",
      "1     244.640          0.055  1.907850      0.017  0.174862   0.000388   \n",
      "2     333.386          0.082  1.699960      0.017  0.228903   0.000451   \n",
      "3     333.774          0.075  0.907434      0.015  0.222170   0.000464   \n",
      "4     261.256          0.054  0.555253      0.017  0.167039   0.000451   \n",
      "\n",
      "     37Ar F  err37Ar F    36Ar F  err36Ar F  \n",
      "0  0.056333   0.000233  1.472045   0.001094  \n",
      "1  0.033084   0.000163  0.805360   0.000896  \n",
      "2  0.035241   0.000186  1.100373   0.000954  \n",
      "3  0.026363   0.000151  1.100007   0.001117  \n",
      "4  0.022318   0.000128  0.844047   0.000849  \n"
     ]
    }
   ],
   "source": [
    "# creo un dataframe con i dati del foglio sample_data \n",
    "summary_df = pd.DataFrame()\n",
    "summary_df[\"40Ar tot F\"] = sampleData_mV[\"40Ar F\"]\n",
    "summary_df[\"err40Ar tot F\"] = sampleData_mV[\"err40Ar F\"]\n",
    "summary_df[\"39Ar F\"] = sampleData_mV[\"39Ar F\"]\n",
    "summary_df[\"err39Ar F\"] = sampleData_mV[\"err39Ar F\"]\n",
    "summary_df[\"38Ar F\"] = sampleData_gain[\"38Ar F\"]\n",
    "summary_df[\"err38Ar F\"] = sampleData_gain[\"err38Ar F\"]\n",
    "summary_df[\"37Ar F\"] = sampleData_gain[\"37Ar F\"]\n",
    "summary_df[\"err37Ar F\"] = sampleData_gain[\"err37Ar F\"]\n",
    "summary_df[\"36Ar F\"] = sampleData_gain [\"36Ar F\"] \n",
    "summary_df[\"err36Ar F\"] = sampleData_gain [\"err36Ar F\"] \n",
    "print(\"summary_df\")\n",
    "print (summary_df)"
   ]
  },
  {
   "cell_type": "markdown",
   "metadata": {},
   "source": [
    "le operazioni che verranno svolte d'ora in poi saranno parte del dataframe summary_df"
   ]
  },
  {
   "cell_type": "code",
   "execution_count": 26,
   "metadata": {},
   "outputs": [
    {
     "name": "stdout",
     "output_type": "stream",
     "text": [
      "36Ar corr frax\n",
      "0    1.466020\n",
      "1    0.802064\n",
      "2    1.095869\n",
      "3    1.095505\n",
      "4    0.840593\n",
      "Name: 36Ar corr frax, dtype: float64\n",
      "err36Ar corr frax\n",
      "0    0.001094\n",
      "1    0.000896\n",
      "2    0.000954\n",
      "3    0.001117\n",
      "4    0.000849\n",
      "Name: err36Ar corr frax, dtype: float64\n"
     ]
    }
   ],
   "source": [
    "# calcolo 36Ar corr frax + errore \n",
    "summary_df[\"36Ar corr frax\"] = summary_df[\"36Ar F\"] * source_frax\n",
    "summary_df[\"err36Ar corr frax\"] = summary_df[\"err36Ar F\"]\n",
    "print(\"36Ar corr frax\")\n",
    "print(summary_df[\"36Ar corr frax\"])\n",
    "print(\"err36Ar corr frax\")\n",
    "print(summary_df[\"err36Ar corr frax\"])"
   ]
  },
  {
   "cell_type": "code",
   "execution_count": 27,
   "metadata": {},
   "outputs": [
    {
     "name": "stdout",
     "output_type": "stream",
     "text": [
      "39Ar corr frax\n",
      "0    4.094326\n",
      "1    1.905898\n",
      "2    1.698221\n",
      "3    0.906505\n",
      "4    0.554685\n",
      "Name: 39Ar corr frax, dtype: float64\n",
      "err39Ar corr frax\n",
      "0    0.018\n",
      "1    0.017\n",
      "2    0.017\n",
      "3    0.015\n",
      "4    0.017\n",
      "Name: err39Ar corr frax, dtype: float64\n"
     ]
    }
   ],
   "source": [
    "# calcolo 39Ar corr frax + errore\n",
    "summary_df[\"39Ar corr frax\"] = summary_df[\"39Ar F\"] * (1 - ((1 - source_frax) / 4))\n",
    "summary_df[\"err39Ar corr frax\"] = summary_df[\"err39Ar F\"] \n",
    "print(\"39Ar corr frax\")\n",
    "print(summary_df[\"39Ar corr frax\"])\n",
    "print(\"err39Ar corr frax\")\n",
    "print(summary_df[\"err39Ar corr frax\"])"
   ]
  },
  {
   "cell_type": "code",
   "execution_count": 28,
   "metadata": {},
   "outputs": [
    {
     "name": "stdout",
     "output_type": "stream",
     "text": [
      "38tot-fc\n",
      "0    0.328880\n",
      "1    0.174505\n",
      "2    0.228434\n",
      "3    0.221715\n",
      "4    0.166697\n",
      "Name: 38tot-fc, dtype: float64\n"
     ]
    }
   ],
   "source": [
    "# calcolo 38tot-fc\n",
    "summary_df[\"38tot-fc\"] = summary_df[\"38Ar F\"] * ((1 + source_frax) / 2)\n",
    "print(\"38tot-fc\")\n",
    "print(summary_df[\"38tot-fc\"])"
   ]
  },
  {
   "cell_type": "code",
   "execution_count": 29,
   "metadata": {},
   "outputs": [
    {
     "name": "stdout",
     "output_type": "stream",
     "text": [
      "38Ar Cl\n",
      "0    0.006458\n",
      "1    0.001861\n",
      "2    0.002727\n",
      "3    0.004972\n",
      "4    0.001971\n",
      "Name: 38Ar Cl, dtype: float64\n"
     ]
    }
   ],
   "source": [
    "# calcolo 38Ar Cl\n",
    "summary_df[\"38Ar Cl\"] = summary_df[\"38tot-fc\"] - (summary_df[\"39Ar corr frax\"] / 89) - (summary_df[\"36Ar corr frax\"] * 0.18855)\n",
    "print(\"38Ar Cl\")\n",
    "print(summary_df[\"38Ar Cl\"])"
   ]
  },
  {
   "cell_type": "code",
   "execution_count": 30,
   "metadata": {},
   "outputs": [
    {
     "name": "stdout",
     "output_type": "stream",
     "text": [
      "37-fc\n",
      "0    0.056276\n",
      "1    0.033050\n",
      "2    0.035205\n",
      "3    0.026336\n",
      "4    0.022295\n",
      "Name: 37-fc, dtype: float64\n"
     ]
    }
   ],
   "source": [
    "# calcolo 37-fc\n",
    "summary_df[\"37-fc\"] = summary_df[\"37Ar F\"] * ((1 * 3 + source_frax) / 4)\n",
    "print(\"37-fc\")\n",
    "print(summary_df[\"37-fc\"])"
   ]
  },
  {
   "cell_type": "code",
   "execution_count": 31,
   "metadata": {},
   "outputs": [
    {
     "name": "stdout",
     "output_type": "stream",
     "text": [
      "Ca/K\n",
      "0    0.006872\n",
      "1    0.008670\n",
      "2    0.010365\n",
      "3    0.014526\n",
      "4    0.020097\n",
      "Name: Ca/K, dtype: float64\n"
     ]
    }
   ],
   "source": [
    "# calcolo Ca/K\n",
    "summary_df[\"Ca/K\"] = 0.5 * (summary_df[\"37-fc\"] / summary_df[\"39Ar corr frax\"])\n",
    "print(\"Ca/K\")\n",
    "print(summary_df[\"Ca/K\"])"
   ]
  },
  {
   "cell_type": "code",
   "execution_count": 32,
   "metadata": {},
   "outputs": [
    {
     "name": "stdout",
     "output_type": "stream",
     "text": [
      "38Cl/39K\n",
      "0    0.001577\n",
      "1    0.000976\n",
      "2    0.001606\n",
      "3    0.005485\n",
      "4    0.003553\n",
      "Name: 38Cl/39K, dtype: float64\n"
     ]
    }
   ],
   "source": [
    "# calcolo 38Cl/39K\n",
    "summary_df[\"38Cl/39K\"] = summary_df[\"38Ar Cl\"] / summary_df[\"39Ar corr frax\"]\n",
    "print(\"38Cl/39K\")\n",
    "print(summary_df[\"38Cl/39K\"])"
   ]
  },
  {
   "cell_type": "code",
   "execution_count": 33,
   "metadata": {},
   "outputs": [
    {
     "name": "stdout",
     "output_type": "stream",
     "text": [
      "39Arcum\n",
      "0    4.094326\n",
      "1    6.000224\n",
      "2    7.698445\n",
      "3    8.604950\n",
      "4    9.159635\n",
      "Name: 39Arcum, dtype: float64\n"
     ]
    },
    {
     "name": "stderr",
     "output_type": "stream",
     "text": [
      "C:\\Users\\teres\\anaconda3\\lib\\site-packages\\ipykernel_launcher.py:2: DeprecationWarning: The default dtype for empty Series will be 'object' instead of 'float64' in a future version. Specify a dtype explicitly to silence this warning.\n",
      "  \n"
     ]
    }
   ],
   "source": [
    "# calcolo 39Arcum\n",
    "summary_df[\"39Arcum\"] = pd.Series()\n",
    "for n in range (len(summary_df.index)):\n",
    "    if n==0: \n",
    "        summary_df[\"39Arcum\"][n] = summary_df[\"39Ar corr frax\"][n]\n",
    "    else:\n",
    "        summary_df[\"39Arcum\"][n] = summary_df[\"39Ar corr frax\"][n] + summary_df[\"39Arcum\"][n - 1]\n",
    "print(\"39Arcum\")\n",
    "print(summary_df[\"39Arcum\"])"
   ]
  },
  {
   "cell_type": "code",
   "execution_count": 34,
   "metadata": {},
   "outputs": [
    {
     "name": "stdout",
     "output_type": "stream",
     "text": [
      "%39Ar\n",
      "0    0.446997\n",
      "1    0.655072\n",
      "2    0.840475\n",
      "3    0.939442\n",
      "4    1.000000\n",
      "Name: %39Ar, dtype: float64\n"
     ]
    },
    {
     "name": "stderr",
     "output_type": "stream",
     "text": [
      "C:\\Users\\teres\\anaconda3\\lib\\site-packages\\ipykernel_launcher.py:2: DeprecationWarning: The default dtype for empty Series will be 'object' instead of 'float64' in a future version. Specify a dtype explicitly to silence this warning.\n",
      "  \n"
     ]
    }
   ],
   "source": [
    "# calcolo %39Ar\n",
    "summary_df[\"%39Ar\"] = pd.Series()\n",
    "for n in range(len(summary_df.index)):\n",
    "    summary_df[\"%39Ar\"][n] = summary_df[\"39Arcum\"][n] / summary_df[\"39Arcum\"][len(summary_df.index) - 1] \n",
    "print(\"%39Ar\")\n",
    "print(summary_df[\"%39Ar\"])"
   ]
  },
  {
   "cell_type": "code",
   "execution_count": 35,
   "metadata": {},
   "outputs": [
    {
     "name": "stdout",
     "output_type": "stream",
     "text": [
      "40/36fc\n",
      "0    301.871660\n",
      "1    305.013224\n",
      "2    304.220647\n",
      "3    304.675867\n",
      "4    310.799707\n",
      "Name: 40/36fc, dtype: float64\n"
     ]
    }
   ],
   "source": [
    "# calcolo 40/36fc\n",
    "summary_df[\"40/36fc\"] = summary_df[\"40Ar tot F\"] / summary_df[\"36Ar corr frax\"] \n",
    "print(\"40/36fc\")\n",
    "print(summary_df[\"40/36fc\"])"
   ]
  },
  {
   "cell_type": "code",
   "execution_count": 36,
   "metadata": {},
   "outputs": [
    {
     "name": "stdout",
     "output_type": "stream",
     "text": [
      "error sum 2\n",
      "0    0.231107\n",
      "1    0.347549\n",
      "2    0.275239\n",
      "3    0.318116\n",
      "4    0.320561\n",
      "Name: error sum 2, dtype: float64\n"
     ]
    }
   ],
   "source": [
    "# calcolo error sum 2\n",
    "insqrt = pow(summary_df[\"err40Ar tot F\"]/summary_df[\"40Ar tot F\"], 2) + pow(summary_df[\"err36Ar corr frax\"] / summary_df[\"36Ar corr frax\"] ,2)\n",
    "summary_df[\"error sum 2\"] = (insqrt**(1/2)) * summary_df[\"40/36fc\"] \n",
    "print(\"error sum 2\")\n",
    "print(summary_df[\"error sum 2\"])"
   ]
  },
  {
   "cell_type": "code",
   "execution_count": 37,
   "metadata": {},
   "outputs": [
    {
     "name": "stdout",
     "output_type": "stream",
     "text": [
      "40Ar*/40tot\n",
      "0    0.010970\n",
      "1    0.021157\n",
      "2    0.018607\n",
      "3    0.020073\n",
      "4    0.039381\n",
      "Name: 40Ar*/40tot, dtype: float64\n"
     ]
    }
   ],
   "source": [
    "# calcolo 40Ar*/40tot\n",
    "summary_df[\"40Ar*/40tot\"] = (summary_df[\"40/36fc\"] - 298.56) / summary_df[\"40/36fc\"]\n",
    "print(\"40Ar*/40tot\")   \n",
    "print(summary_df[\"40Ar*/40tot\"]) "
   ]
  },
  {
   "cell_type": "code",
   "execution_count": 38,
   "metadata": {},
   "outputs": [
    {
     "name": "stdout",
     "output_type": "stream",
     "text": [
      "err 40Ar*/40tot\n",
      "0   -0.000008\n",
      "1   -0.000025\n",
      "2   -0.000017\n",
      "3   -0.000021\n",
      "4   -0.000042\n",
      "Name: err 40Ar*/40tot, dtype: float64\n"
     ]
    }
   ],
   "source": [
    "# calcolo err 40Ar*/40tot\n",
    "summary_df[\"err 40Ar*/40tot\"] = (1 / (summary_df[\"40Ar*/40tot\"] - 1)) * summary_df[\"error sum 2\"] * (summary_df[\"40Ar*/40tot\"] / summary_df[\"40/36fc\"])\n",
    "print(\"err 40Ar*/40tot\")\n",
    "print(summary_df[\"err 40Ar*/40tot\"])"
   ]
  },
  {
   "cell_type": "code",
   "execution_count": 39,
   "metadata": {},
   "outputs": [
    {
     "name": "stdout",
     "output_type": "stream",
     "text": [
      "40Ar*\n",
      "0     4.854962\n",
      "1     5.175896\n",
      "2     6.203328\n",
      "3     6.699964\n",
      "4    10.288610\n",
      "Name: 40Ar*, dtype: float64\n"
     ]
    }
   ],
   "source": [
    "# calcolo 40Ar*\n",
    "summary_df[\"40Ar*\"] = summary_df[\"40Ar*/40tot\"] * summary_df[\"40Ar tot F\"]\n",
    "print(\"40Ar*\")     \n",
    "print(summary_df[\"40Ar*\"])  "
   ]
  },
  {
   "cell_type": "code",
   "execution_count": 40,
   "metadata": {},
   "outputs": [
    {
     "name": "stdout",
     "output_type": "stream",
     "text": [
      "err 40Ar*\n",
      "0    0.003849\n",
      "1    0.006137\n",
      "2    0.005919\n",
      "3    0.007296\n",
      "4    0.011250\n",
      "Name: err 40Ar*, dtype: float64\n"
     ]
    }
   ],
   "source": [
    "# calcolo err 40Ar*\n",
    "insqrt_1 = pow(summary_df[\"err40Ar tot F\"] / summary_df[\"40Ar tot F\"], 2) + pow(summary_df[\"err 40Ar*/40tot\"] / summary_df[\"40Ar*/40tot\"], 2)\n",
    "summary_df[\"err 40Ar*\"] = (insqrt_1**(1/2)) * summary_df[\"40Ar*\"]\n",
    "print(\"err 40Ar*\")\n",
    "print(summary_df[\"err 40Ar*\"])"
   ]
  },
  {
   "cell_type": "code",
   "execution_count": 41,
   "metadata": {},
   "outputs": [
    {
     "name": "stdout",
     "output_type": "stream",
     "text": [
      "40*/39\n",
      "0     1.185778\n",
      "1     2.715726\n",
      "2     3.652840\n",
      "3     7.390980\n",
      "4    18.548569\n",
      "Name: 40*/39, dtype: float64\n"
     ]
    }
   ],
   "source": [
    "# calcolo 40*/39\n",
    "summary_df[\"40*/39\"] = summary_df[\"40Ar*\"] / summary_df[\"39Ar corr frax\"] \n",
    "print(\"40*/39\")\n",
    "print(summary_df[\"40*/39\"])"
   ]
  },
  {
   "cell_type": "code",
   "execution_count": 42,
   "metadata": {},
   "outputs": [
    {
     "name": "stdout",
     "output_type": "stream",
     "text": [
      "err 40*/39\n",
      "0    0.005292\n",
      "1    0.024412\n",
      "2    0.036695\n",
      "3    0.122439\n",
      "4    0.568258\n",
      "Name: err 40*/39, dtype: float64\n",
      "J\n",
      "0    0.001133\n",
      "1    0.001133\n",
      "2    0.001133\n",
      "3    0.001133\n",
      "4    0.001133\n",
      "Name: J, dtype: float64\n"
     ]
    },
    {
     "name": "stderr",
     "output_type": "stream",
     "text": [
      "C:\\Users\\teres\\anaconda3\\lib\\site-packages\\ipykernel_launcher.py:7: DeprecationWarning: The default dtype for empty Series will be 'object' instead of 'float64' in a future version. Specify a dtype explicitly to silence this warning.\n",
      "  import sys\n"
     ]
    }
   ],
   "source": [
    "# calcolo err 40*/39\n",
    "insqrt_2 = pow(summary_df[\"err39Ar F\"] / summary_df[\"39Ar F\"], 2) + pow(summary_df[\"err 40Ar*\"] / summary_df[\"40Ar*\"], 2)\n",
    "summary_df[\"err 40*/39\"] = (insqrt_2**(1/2)) * summary_df[\"40*/39\"]\n",
    "print(\"err 40*/39\")\n",
    "print(summary_df[\"err 40*/39\"])\n",
    "\n",
    "summary_df[\"J\"] = pd.Series()\n",
    "for n in range(len(summary_df.index)):\n",
    "    summary_df[\"J\"][n] = 0.00113276737584373\n",
    "print(\"J\")\n",
    "print(summary_df[\"J\"])"
   ]
  },
  {
   "cell_type": "code",
   "execution_count": 43,
   "metadata": {},
   "outputs": [
    {
     "name": "stdout",
     "output_type": "stream",
     "text": [
      "err J\n",
      "0    0.000006\n",
      "1    0.000006\n",
      "2    0.000006\n",
      "3    0.000006\n",
      "4    0.000006\n",
      "Name: err J, dtype: float64\n"
     ]
    }
   ],
   "source": [
    "# calcolo err J (0.5 % * J)\n",
    "summary_df[\"err J\"] = 0.005 * summary_df[\"J\"]\n",
    "print(\"err J\")\n",
    "print(summary_df[\"err J\"])"
   ]
  },
  {
   "cell_type": "code",
   "execution_count": 44,
   "metadata": {},
   "outputs": [
    {
     "name": "stdout",
     "output_type": "stream",
     "text": [
      "age\n",
      "0     2.421526\n",
      "1     5.541101\n",
      "2     7.449223\n",
      "3    15.040684\n",
      "4    37.511514\n",
      "Name: age, dtype: float64\n"
     ]
    }
   ],
   "source": [
    "# calcolo age\n",
    "insqrt_3 = 1 + summary_df[\"J\"] * summary_df[\"40*/39\"]\n",
    "summary_df[\"age\"] = 1804 * np.log(insqrt_3)\n",
    "print(\"age\")\n",
    "print(summary_df[\"age\"])"
   ]
  },
  {
   "cell_type": "code",
   "execution_count": 45,
   "metadata": {},
   "outputs": [
    {
     "name": "stdout",
     "output_type": "stream",
     "text": [
      "error age\n",
      "0    0.016229\n",
      "1    0.056996\n",
      "2    0.083589\n",
      "3    0.260265\n",
      "4    1.164415\n",
      "Name: error age, dtype: float64\n"
     ]
    }
   ],
   "source": [
    "# calcolo error age\n",
    "insqrt_4 = pow(summary_df[\"err J\"]/summary_df[\"J\"], 2) + pow(summary_df[\"err 40*/39\"]/summary_df[\"40*/39\"], 2)\n",
    "summary_df[\"error age\"] = (insqrt_4**(1/2)) * summary_df[\"age\"] \n",
    "print(\"error age\")\n",
    "print(summary_df[\"error age\"])"
   ]
  },
  {
   "cell_type": "code",
   "execution_count": 46,
   "metadata": {},
   "outputs": [
    {
     "name": "stdout",
     "output_type": "stream",
     "text": [
      "age +\n",
      "0     2.437755\n",
      "1     5.598097\n",
      "2     7.532812\n",
      "3    15.300949\n",
      "4    38.675928\n",
      "Name: age +, dtype: float64\n"
     ]
    }
   ],
   "source": [
    "# calcolo age +\n",
    "summary_df[\"age +\"] = summary_df[\"age\"] + summary_df[\"error age\"]\n",
    "print(\"age +\")\n",
    "print(summary_df[\"age +\"])\n"
   ]
  },
  {
   "cell_type": "code",
   "execution_count": 47,
   "metadata": {},
   "outputs": [
    {
     "name": "stdout",
     "output_type": "stream",
     "text": [
      "age -\n",
      "0     2.405297\n",
      "1     5.484105\n",
      "2     7.365633\n",
      "3    14.780419\n",
      "4    36.347099\n",
      "Name: age -, dtype: float64\n"
     ]
    }
   ],
   "source": [
    "# calcolo age -\n",
    "summary_df[\"age -\"] = summary_df[\"age\"] - summary_df[\"error age\"]\n",
    "print(\"age -\")\n",
    "print(summary_df[\"age -\"])"
   ]
  },
  {
   "cell_type": "code",
   "execution_count": null,
   "metadata": {},
   "outputs": [],
   "source": []
  },
  {
   "cell_type": "code",
   "execution_count": null,
   "metadata": {},
   "outputs": [],
   "source": []
  }
 ],
 "metadata": {
  "kernelspec": {
   "display_name": "Python 3",
   "language": "python",
   "name": "python3"
  },
  "language_info": {
   "codemirror_mode": {
    "name": "ipython",
    "version": 3
   },
   "file_extension": ".py",
   "mimetype": "text/x-python",
   "name": "python",
   "nbconvert_exporter": "python",
   "pygments_lexer": "ipython3",
   "version": "3.7.6"
  }
 },
 "nbformat": 4,
 "nbformat_minor": 4
}
