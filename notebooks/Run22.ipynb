{
 "cells": [
  {
   "cell_type": "code",
   "execution_count": 5,
   "metadata": {},
   "outputs": [],
   "source": [
    "import pandas as pd\n",
    "import math \n",
    "import numpy as np \n",
    "import datetime"
   ]
  },
  {
   "cell_type": "code",
   "execution_count": 6,
   "metadata": {},
   "outputs": [],
   "source": [
    "# importo file run.22 e creo la lista con i nomi delle colonne \n",
    "colNamesInitData=['40Ar F', 'err40Ar F', '38Ar IC0', 'err38Ar IC0', '36Ar IC1', 'err36Ar IC1','38Ar F', 'err38Ar F','36Ar IC0', 'err36Ar IC0 ', '39Ar F', 'err39Ar F', '37Ar IC0', 'err37Ar IC0' , '35Cl IC1', 'err35Cl IC1', 'gainIC0/IC1', 'err gainIC0/IC1' , '40F/36IC1',  'err 40F/36IC1',  '40F/36IC0' ,'err 40F/36IC0', 'Run', 'Path']\n",
    "colnames_numeric = ['40Ar F', 'err40Ar F', '38Ar IC0', 'err38Ar IC0', '36Ar IC1', 'err36Ar IC1','38Ar F', 'err38Ar F','36Ar IC0', 'err36Ar IC0 ', '39Ar F', 'err39Ar F', '37Ar IC0', 'err37Ar IC0' , '35Cl IC1', 'err35Cl IC1', 'gainIC0/IC1', 'err gainIC0/IC1' , '40F/36IC1',  'err 40F/36IC1',  '40F/36IC0' ,'err 40F/36IC0']\n"
   ]
  },
  {
   "cell_type": "code",
   "execution_count": 7,
   "metadata": {},
   "outputs": [],
   "source": [
    "filePath = \"../test_data/Run22.txt\"\n",
    "# filePath = \"C:\\\\Users\\\\teres\\\\Documents\\\\PyCalcolAr\\\\test_data\\\\Run22.txt\"\n",
    "df_initData = pd.read_csv(filePath, header = None, names = colNamesInitData)"
   ]
  },
  {
   "cell_type": "code",
   "execution_count": 10,
   "metadata": {},
   "outputs": [],
   "source": [
    "# airpipette_utilData.replace(to_replace = [\"{\", \"}\"], value = \"\", inplace=True, regex=True)\n",
    "df_utilData = df_initData.replace([\"{\", \"}\"], [\"\", \"\"], regex=True)\n",
    "\n",
    "#convertire tutte le colonne del dataframe a numeric (float64)\n",
    "for i in range(len(colnames_numeric)):\n",
    "    df_utilData[colnames_numeric[i]] = pd.to_numeric(df_utilData[colnames_numeric[i]])\n",
    "\n",
    "\n"
   ]
  },
  {
   "cell_type": "code",
   "execution_count": 11,
   "metadata": {},
   "outputs": [
    {
     "name": "stdout",
     "output_type": "stream",
     "text": [
      "             Run Name            Data Time     40Ar F  err40Ar F  38Ar IC0  \\\n",
      "0     PHALABORWA STP4  2015-05-19 13:32:00   7.416700   0.002500  0.001269   \n",
      "1     PHALABORWA STP5  2015-05-19 13:55:00   6.614000   0.002300  0.001036   \n",
      "2     PHALABORWA STP6  2015-05-19 14:19:00   9.369080   0.003800  0.001380   \n",
      "3     PHALABORWA STP8  2015-05-19 15:12:00   8.058740   0.003000  0.001139   \n",
      "4     PHALABORWA STP9  2015-05-19 15:37:00  11.968100   0.004600  0.001673   \n",
      "...               ...                  ...        ...        ...       ...   \n",
      "1333   BAL-T12 LG ST2  2020-06-23 15:31:00   0.426141   0.000120  0.003709   \n",
      "1334   BAL-T12 LG ST3  2020-06-23 15:57:00   0.224427   0.000066  0.003784   \n",
      "1335   BAL-T12 LG ST6  2020-06-23 17:08:00   0.421204   0.000130  0.004853   \n",
      "1336      BAL-T12 ST7  2020-06-23 17:26:00   0.585912   0.000160  0.011360   \n",
      "1337      Sample Name  2020-06-23 17:54:00   0.605563   0.000170  0.012759   \n",
      "\n",
      "       err38Ar IC0  36Ar IC1   err36Ar IC1    38Ar F  err38Ar F  ...  \\\n",
      "0     6.900000e-07  0.001755  3.000000e-06  0.000694   0.000016  ...   \n",
      "1     6.900000e-07  0.001198  2.100000e-06  0.000668   0.000016  ...   \n",
      "2     7.100000e-07  0.001129  1.700000e-06  0.000993   0.000020  ...   \n",
      "3     6.800000e-07  0.000528  7.100000e-07  0.000906   0.000020  ...   \n",
      "4     1.000000e-06  0.000496  7.000000e-07  0.001193   0.000026  ...   \n",
      "...            ...       ...           ...       ...        ...  ...   \n",
      "1333  2.600000e-06  0.000883  7.200000e-07  0.004290   0.000017  ...   \n",
      "1334  2.800000e-06  0.000268  4.000000e-07  0.004378   0.000017  ...   \n",
      "1335  3.600000e-06  0.000743  7.200000e-07  0.005579   0.000016  ...   \n",
      "1336  1.100000e-05  0.000572  6.300000e-07  0.012936   0.000016  ...   \n",
      "1337  1.100000e-05  0.000492  7.100000e-07  0.014504   0.000017  ...   \n",
      "\n",
      "      35Cl IC1   err35Cl IC1  gainIC0/IC1  err gainIC0/IC1  40F/36IC1  \\\n",
      "0     0.000013  6.400000e-08     1.151210           0.0021   4225.330   \n",
      "1     0.000012  6.300000e-08     1.177690           0.0021   5519.020   \n",
      "2     0.000013  6.700000e-08     1.178730           0.0019   8300.450   \n",
      "3     0.000013  5.400000e-08     1.250590           0.0019  15268.100   \n",
      "4     0.000013  6.500000e-08     1.249520           0.0020  24117.300   \n",
      "...        ...           ...          ...              ...        ...   \n",
      "1333  0.000018  1.100000e-07     0.997925           0.0012    482.535   \n",
      "1334  0.000018  1.100000e-07     1.003020           0.0022    838.663   \n",
      "1335  0.000018  1.000000e-07     1.008230           0.0013    567.014   \n",
      "1336  0.000019  1.100000e-07     1.015770           0.0016   1024.300   \n",
      "1337  0.000019  1.300000e-07     1.021820           0.0018   1230.700   \n",
      "\n",
      "      err 40F/36IC1  40F/36IC0  err 40F/36IC0  \\\n",
      "0              7.50   3670.350           2.10   \n",
      "1              9.80   4686.290           2.90   \n",
      "2             13.00   7041.880           4.60   \n",
      "3             21.00  12208.700           9.40   \n",
      "4             35.00  19301.300          18.00   \n",
      "...             ...        ...            ...   \n",
      "1333           0.42    483.538           0.46   \n",
      "1334           1.30    836.139           1.30   \n",
      "1335           0.58    562.386           0.54   \n",
      "1336           1.20   1008.400           1.20   \n",
      "1337           1.80   1204.420           1.40   \n",
      "\n",
      "                                                Run  \\\n",
      "0     'PHALABORWA STP4' run on 19 May 2015 at 13:32   \n",
      "1     'PHALABORWA STP5' run on 19 May 2015 at 13:55   \n",
      "2     'PHALABORWA STP6' run on 19 May 2015 at 14:19   \n",
      "3     'PHALABORWA STP8' run on 19 May 2015 at 15:12   \n",
      "4     'PHALABORWA STP9' run on 19 May 2015 at 15:37   \n",
      "...                                             ...   \n",
      "1333  'BAL-T12 LG ST2' run on 23 June 2020 at 15:31   \n",
      "1334  'BAL-T12 LG ST3' run on 23 June 2020 at 15:57   \n",
      "1335  'BAL-T12 LG ST6' run on 23 June 2020 at 17:08   \n",
      "1336     'BAL-T12 ST7' run on 23 June 2020 at 17:26   \n",
      "1337     'Sample Name' run on 23 June 2020 at 17:54   \n",
      "\n",
      "                                                   Path  \n",
      "0      Raw data stored in - C:\\Nu Noble\\Results\\Data...  \n",
      "1      Raw data stored in - C:\\Nu Noble\\Results\\Data...  \n",
      "2      Raw data stored in - C:\\Nu Noble\\Results\\Data...  \n",
      "3      Raw data stored in - C:\\Nu Noble\\Results\\Data...  \n",
      "4      Raw data stored in - C:\\Nu Noble\\Results\\Data...  \n",
      "...                                                 ...  \n",
      "1333   Raw data stored in - C:\\Nu Noble\\Results\\Data...  \n",
      "1334   Raw data stored in - C:\\Nu Noble\\Results\\Data...  \n",
      "1335   Raw data stored in - C:\\Nu Noble\\Results\\Data...  \n",
      "1336   Raw data stored in - C:\\Nu Noble\\Results\\Data...  \n",
      "1337   Raw data stored in - C:\\Nu Noble\\Results\\Data...  \n",
      "\n",
      "[1338 rows x 26 columns]\n"
     ]
    }
   ],
   "source": [
    "#creare due nuove colonne per nome run data e ora\n",
    "series_dataora = df_utilData['Run'].str.split(\" run on \")\n",
    "run_name = series_dataora.str[0]\n",
    "run_name = run_name.replace([\"'\"], [\"\"], regex=True)\n",
    "\n",
    "series_dataora = series_dataora.str[1]\n",
    "\n",
    "for i in range(series_dataora.size):\n",
    "    series_dataora[i] = datetime.datetime.strptime(series_dataora[i], '%d %B %Y at %H:%M')\n",
    "\n",
    "dataora_df = pd.DataFrame(series_dataora)\n",
    "dataora_df.columns = ['Data Time']\n",
    "run_name = pd.DataFrame(run_name)\n",
    "run_name.columns = ['Run Name']\n",
    "\n",
    "# most_recent_data = series_dataora.max()\n",
    "df_finalData = pd.concat([run_name, dataora_df, df_utilData], axis = 1)\n",
    "\n",
    "\n",
    "print (df_finalData)\n",
    "\n"
   ]
  },
  {
   "cell_type": "code",
   "execution_count": 14,
   "metadata": {
    "scrolled": true
   },
   "outputs": [
    {
     "name": "stdout",
     "output_type": "stream",
     "text": [
      "             Run Name            Data Time     40Ar F  err40Ar F  38Ar IC0  \\\n",
      "0     PHALABORWA STP4  2015-05-19 13:32:00   7.416700   0.002500  0.001269   \n",
      "1     PHALABORWA STP5  2015-05-19 13:55:00   6.614000   0.002300  0.001036   \n",
      "2     PHALABORWA STP6  2015-05-19 14:19:00   9.369080   0.003800  0.001380   \n",
      "3     PHALABORWA STP8  2015-05-19 15:12:00   8.058740   0.003000  0.001139   \n",
      "4     PHALABORWA STP9  2015-05-19 15:37:00  11.968100   0.004600  0.001673   \n",
      "...               ...                  ...        ...        ...       ...   \n",
      "1333   BAL-T12 LG ST2  2020-06-23 15:31:00   0.426141   0.000120  0.003709   \n",
      "1334   BAL-T12 LG ST3  2020-06-23 15:57:00   0.224427   0.000066  0.003784   \n",
      "1335   BAL-T12 LG ST6  2020-06-23 17:08:00   0.421204   0.000130  0.004853   \n",
      "1336      BAL-T12 ST7  2020-06-23 17:26:00   0.585912   0.000160  0.011360   \n",
      "1337      Sample Name  2020-06-23 17:54:00   0.605563   0.000170  0.012759   \n",
      "\n",
      "       err38Ar IC0  36Ar IC1   err36Ar IC1    38Ar F  err38Ar F  ...  \\\n",
      "0     6.900000e-07  0.001755  3.000000e-06  0.000694   0.000016  ...   \n",
      "1     6.900000e-07  0.001198  2.100000e-06  0.000668   0.000016  ...   \n",
      "2     7.100000e-07  0.001129  1.700000e-06  0.000993   0.000020  ...   \n",
      "3     6.800000e-07  0.000528  7.100000e-07  0.000906   0.000020  ...   \n",
      "4     1.000000e-06  0.000496  7.000000e-07  0.001193   0.000026  ...   \n",
      "...            ...       ...           ...       ...        ...  ...   \n",
      "1333  2.600000e-06  0.000883  7.200000e-07  0.004290   0.000017  ...   \n",
      "1334  2.800000e-06  0.000268  4.000000e-07  0.004378   0.000017  ...   \n",
      "1335  3.600000e-06  0.000743  7.200000e-07  0.005579   0.000016  ...   \n",
      "1336  1.100000e-05  0.000572  6.300000e-07  0.012936   0.000016  ...   \n",
      "1337  1.100000e-05  0.000492  7.100000e-07  0.014504   0.000017  ...   \n",
      "\n",
      "       err37Ar IC0  35Cl IC1   err35Cl IC1  gainIC0/IC1  err gainIC0/IC1  \\\n",
      "0     4.900000e-08  0.000013  6.400000e-08     1.151210           0.0021   \n",
      "1     5.100000e-08  0.000012  6.300000e-08     1.177690           0.0021   \n",
      "2     5.200000e-08  0.000013  6.700000e-08     1.178730           0.0019   \n",
      "3     5.000000e-08  0.000013  5.400000e-08     1.250590           0.0019   \n",
      "4     5.600000e-08  0.000013  6.500000e-08     1.249520           0.0020   \n",
      "...            ...       ...           ...          ...              ...   \n",
      "1333  9.300000e-08  0.000018  1.100000e-07     0.997925           0.0012   \n",
      "1334  7.600000e-08  0.000018  1.100000e-07     1.003020           0.0022   \n",
      "1335  9.200000e-08  0.000018  1.000000e-07     1.008230           0.0013   \n",
      "1336  7.800000e-08  0.000019  1.100000e-07     1.015770           0.0016   \n",
      "1337  7.900000e-08  0.000019  1.300000e-07     1.021820           0.0018   \n",
      "\n",
      "      40F/36IC1  err 40F/36IC1  40F/36IC0  err 40F/36IC0  \\\n",
      "0      4225.330           7.50   3670.350           2.10   \n",
      "1      5519.020           9.80   4686.290           2.90   \n",
      "2      8300.450          13.00   7041.880           4.60   \n",
      "3     15268.100          21.00  12208.700           9.40   \n",
      "4     24117.300          35.00  19301.300          18.00   \n",
      "...         ...            ...        ...            ...   \n",
      "1333    482.535           0.42    483.538           0.46   \n",
      "1334    838.663           1.30    836.139           1.30   \n",
      "1335    567.014           0.58    562.386           0.54   \n",
      "1336   1024.300           1.20   1008.400           1.20   \n",
      "1337   1230.700           1.80   1204.420           1.40   \n",
      "\n",
      "                                                   Path  \n",
      "0      Raw data stored in - C:\\Nu Noble\\Results\\Data...  \n",
      "1      Raw data stored in - C:\\Nu Noble\\Results\\Data...  \n",
      "2      Raw data stored in - C:\\Nu Noble\\Results\\Data...  \n",
      "3      Raw data stored in - C:\\Nu Noble\\Results\\Data...  \n",
      "4      Raw data stored in - C:\\Nu Noble\\Results\\Data...  \n",
      "...                                                 ...  \n",
      "1333   Raw data stored in - C:\\Nu Noble\\Results\\Data...  \n",
      "1334   Raw data stored in - C:\\Nu Noble\\Results\\Data...  \n",
      "1335   Raw data stored in - C:\\Nu Noble\\Results\\Data...  \n",
      "1336   Raw data stored in - C:\\Nu Noble\\Results\\Data...  \n",
      "1337   Raw data stored in - C:\\Nu Noble\\Results\\Data...  \n",
      "\n",
      "[1338 rows x 25 columns]\n"
     ]
    }
   ],
   "source": [
    "df_finalData.drop('Run',axis=1, inplace=True)\n",
    "\n",
    "print(df_finalData)"
   ]
  },
  {
   "cell_type": "code",
   "execution_count": 4,
   "metadata": {},
   "outputs": [
    {
     "ename": "NameError",
     "evalue": "name 'df_finalData' is not defined",
     "output_type": "error",
     "traceback": [
      "\u001b[1;31m---------------------------------------------------------------------------\u001b[0m",
      "\u001b[1;31mNameError\u001b[0m                                 Traceback (most recent call last)",
      "\u001b[1;32m<ipython-input-4-25ccb37d9dce>\u001b[0m in \u001b[0;36m<module>\u001b[1;34m\u001b[0m\n\u001b[1;32m----> 1\u001b[1;33m \u001b[0mdf_finalData\u001b[0m\u001b[1;33m.\u001b[0m\u001b[0mdrop\u001b[0m\u001b[1;33m(\u001b[0m\u001b[1;34m'Run'\u001b[0m\u001b[1;33m,\u001b[0m\u001b[0maxis\u001b[0m\u001b[1;33m=\u001b[0m\u001b[1;36m1\u001b[0m\u001b[1;33m)\u001b[0m\u001b[1;33m\u001b[0m\u001b[1;33m\u001b[0m\u001b[0m\n\u001b[0m\u001b[0;32m      2\u001b[0m \u001b[1;33m\u001b[0m\u001b[0m\n",
      "\u001b[1;31mNameError\u001b[0m: name 'df_finalData' is not defined"
     ]
    }
   ],
   "source": [
    "\n",
    "\n"
   ]
  },
  {
   "cell_type": "code",
   "execution_count": null,
   "metadata": {},
   "outputs": [],
   "source": []
  },
  {
   "cell_type": "code",
   "execution_count": null,
   "metadata": {},
   "outputs": [],
   "source": []
  }
 ],
 "metadata": {
  "kernelspec": {
   "display_name": "Python 3",
   "language": "python",
   "name": "python3"
  },
  "language_info": {
   "codemirror_mode": {
    "name": "ipython",
    "version": 3
   },
   "file_extension": ".py",
   "mimetype": "text/x-python",
   "name": "python",
   "nbconvert_exporter": "python",
   "pygments_lexer": "ipython3",
   "version": "3.7.6"
  }
 },
 "nbformat": 4,
 "nbformat_minor": 4
}
