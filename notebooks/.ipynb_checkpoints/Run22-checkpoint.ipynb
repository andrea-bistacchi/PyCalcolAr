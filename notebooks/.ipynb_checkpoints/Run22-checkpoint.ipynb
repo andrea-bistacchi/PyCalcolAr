{
 "cells": [
  {
   "cell_type": "code",
   "execution_count": null,
   "metadata": {},
   "outputs": [],
   "source": [
    "import pandas as pd\n",
    "import math \n",
    "import numpy as np \n",
    "import datetime"
   ]
  },
  {
   "cell_type": "code",
   "execution_count": null,
   "metadata": {},
   "outputs": [],
   "source": [
    "# creo la lista con i nomi delle colonne \n",
    "colNamesInitData=['40Ar F', 'err40Ar F', '38Ar IC0', 'err38Ar IC0', '36Ar IC1', 'err36Ar IC1','38Ar F', 'err38Ar F','36Ar IC0', 'err36Ar IC0 ', '39Ar F', 'err39Ar F', '37Ar IC0', 'err37Ar IC0' , '35Cl IC1', 'err35Cl IC1', 'gainIC0/IC1', 'err gainIC0/IC1' , '40F/36IC1',  'err 40F/36IC1',  '40F/36IC0' ,'err 40F/36IC0', 'Run', 'Path']\n",
    "colnames_numeric = ['40Ar F', 'err40Ar F', '38Ar IC0', 'err38Ar IC0', '36Ar IC1', 'err36Ar IC1','38Ar F', 'err38Ar F','36Ar IC0', 'err36Ar IC0 ', '39Ar F', 'err39Ar F', '37Ar IC0', 'err37Ar IC0' , '35Cl IC1', 'err35Cl IC1', 'gainIC0/IC1', 'err gainIC0/IC1' , '40F/36IC1',  'err 40F/36IC1',  '40F/36IC0' ,'err 40F/36IC0']\n",
    "# definisco il percorso del file run.22\n",
    "filePath = \"../test_data/Run22.txt\"\n",
    "# importo il file run.22\n",
    "df_Data = pd.read_csv(filePath, header = None, names = colNamesInitData)"
   ]
  },
  {
   "cell_type": "code",
   "execution_count": null,
   "metadata": {},
   "outputs": [],
   "source": [
    "# qui si eliminano le graffe, ma forse si può fare in un unico passaggio all'importazione, definendo\n",
    "# anche legraffe come separatori di elenco e imponendo di considerare separatori consecutivi come uno solo\n",
    "# nota che ho sovrascritto il dataframe usando lo stesso nome, non serve crearne più copie che si accumulano\n",
    "# in memoria\n",
    "df_Data = df_Data.replace([\"{\", \"}\"], [\"\", \"\"], regex=True)\n",
    "\n",
    "# qui si convertono tutte le colonne del dataframe a numeric (float64), ma sicuramente si può fare\n",
    "# sopra all'importazione\n",
    "for i in range(len(colnames_numeric)):\n",
    "    df_Data[colnames_numeric[i]] = pd.to_numeric(df_Data[colnames_numeric[i]])\n",
    "\n",
    "# qui si visualizza il dataframe importato e pulito\n",
    "df_Data"
   ]
  },
  {
   "cell_type": "code",
   "execution_count": null,
   "metadata": {},
   "outputs": [],
   "source": [
    "# qui si creano due nuove colonne per nome run data e ora\n",
    "series_dataora = df_Data['Run'].str.split(\" run on \")\n",
    "run_name = series_dataora.str[0]\n",
    "run_name = run_name.replace([\"'\"], [\"\"], regex=True)\n",
    "\n",
    "series_dataora = series_dataora.str[1]\n",
    "\n",
    "for i in range(series_dataora.size):\n",
    "    series_dataora[i] = datetime.datetime.strptime(series_dataora[i], '%d %B %Y at %H:%M')\n",
    "\n",
    "dataora_df = pd.DataFrame(series_dataora)\n",
    "dataora_df.columns = ['Data Time']\n",
    "run_name = pd.DataFrame(run_name)\n",
    "run_name.columns = ['Run Name']\n",
    "\n",
    "# most_recent_data = series_dataora.max()\n",
    "df_Data = pd.concat([run_name, dataora_df, df_Data], axis = 1)\n",
    "\n",
    "# qui si elimina la colonna non più usata\n",
    "df_Data.drop('Run',axis=1, inplace=True)\n",
    "\n",
    "# qui si visualizza il dataframe con le due nuove colonne\n",
    "df_Data"
   ]
  }
 ],
 "metadata": {
  "kernelspec": {
   "display_name": "Python 3",
   "language": "python",
   "name": "python3"
  },
  "language_info": {
   "codemirror_mode": {
    "name": "ipython",
    "version": 3
   },
   "file_extension": ".py",
   "mimetype": "text/x-python",
   "name": "python",
   "nbconvert_exporter": "python",
   "pygments_lexer": "ipython3",
   "version": "3.7.8"
  }
 },
 "nbformat": 4,
 "nbformat_minor": 4
}
