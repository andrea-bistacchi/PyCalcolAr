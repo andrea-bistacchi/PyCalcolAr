{
 "cells": [
  {
   "cell_type": "markdown",
   "metadata": {},
   "source": [
    "Created on Tue Nov  3 22:01:35 2020\n",
    "\n",
    "@author: teresa"
   ]
  },
  {
   "cell_type": "code",
   "execution_count": null,
   "metadata": {},
   "outputs": [],
   "source": [
    "import pandas as pd\n",
    "import math\n",
    "import numpy as np"
   ]
  },
  {
   "cell_type": "code",
   "execution_count": null,
   "metadata": {},
   "outputs": [],
   "source": [
    "# creo il foglio AIR_PIPETTE\n",
    "print(\"AIR_PIPETTE\")"
   ]
  },
  {
   "cell_type": "code",
   "execution_count": null,
   "metadata": {},
   "outputs": [],
   "source": [
    "# importo file run.triplo36 (air_pipette)\n",
    "colNamesInitData=['40F', 'err40F', '38IC0', 'err38IC0', '36IC1', 'err36IC1', '36IC0', 'err36IC0','36F', 'err 36F', 'gain IC0/IC1', 'err gain IC0/IC1', 'gain F/IC1', 'err gain F/IC1' , 'gain F/IC0', 'err gain F/IC0', '40F/36IC1', 'err 40F/36IC1 ', '40F/36F', 'err 40F/36F', '40F/36IC0', 'err 40F/36IC0' , '38IC0/36IC0', 'err 38IC0/36IC0', 'Run', 'Path']"
   ]
  },
  {
   "cell_type": "code",
   "execution_count": null,
   "metadata": {},
   "outputs": [],
   "source": [
    "filePath = \"../test_data/Triplo36esempio.txt\"\n",
    "# filePath = \"C:\\\\Users\\\\teres\\\\Documents\\\\PyCalcolAr\\\\test_data\\\\Triplo36esempio.txt\"\n",
    "airpipette_initData = pd.read_csv(filePath, header = None, names = colNamesInitData)\n",
    "airpipette_initData"
   ]
  },
  {
   "cell_type": "code",
   "execution_count": null,
   "metadata": {},
   "outputs": [],
   "source": [
    "# creo un nuovo dataframe con le colonne utili\n",
    "airpipette_utilData = airpipette_initData[['40F', 'err40F', '38IC0', 'err38IC0', '36IC1', 'err36IC1', '36IC0', 'err36IC0','36F', 'err 36F']]\n",
    "print(airpipette_utilData)"
   ]
  },
  {
   "cell_type": "code",
   "execution_count": null,
   "metadata": {},
   "outputs": [],
   "source": [
    "# airpipette_utilData.replace(to_replace = [\"{\", \"}\"], value = \"\", inplace=True, regex=True)\n",
    "airpipette_utilData = airpipette_utilData.replace(to_replace = [\"{\", \"}\"], value = [\"\", \"\"], regex=True)\n",
    "print (airpipette_utilData)"
   ]
  },
  {
   "cell_type": "markdown",
   "metadata": {},
   "source": [
    "svolgo le operazioni utili che saranno presenti nel file excel (airpipette_Data)"
   ]
  },
  {
   "cell_type": "code",
   "execution_count": null,
   "metadata": {},
   "outputs": [],
   "source": [
    "# calcolo gain F/IC0\n",
    "A = airpipette_utilData.loc[0,'36F']\n",
    "B = airpipette_utilData.loc[0,'36IC0']\n",
    "\n",
    "gain_F_IC0 = A/B\n",
    "print ('gain F/IC0: ', gain_F_IC0)"
   ]
  },
  {
   "cell_type": "code",
   "execution_count": null,
   "metadata": {},
   "outputs": [],
   "source": [
    "# calcolo gain F/IC1 \n",
    "A = airpipette_utilData.loc[0,'36F']\n",
    "C = airpipette_utilData.loc[0,'36IC1']\n",
    "gain_F_IC1 = A/C\n",
    "print ('gain F/IC1: ', gain_F_IC1)"
   ]
  },
  {
   "cell_type": "code",
   "execution_count": null,
   "metadata": {},
   "outputs": [],
   "source": [
    "# calcolo 36IC0 correzione gain\n",
    "A = airpipette_utilData.loc[0,'36IC0']\n",
    "corr_gain_36IC0 = A * gain_F_IC0\n",
    "print ('corr_gain_36IC0: ', corr_gain_36IC0) "
   ]
  },
  {
   "cell_type": "code",
   "execution_count": null,
   "metadata": {},
   "outputs": [],
   "source": [
    "# calcolo 40/36 correzione\n",
    "A = airpipette_utilData.loc[0,'40F']\n",
    "B = 62415000 \n",
    "corr_40_36 = (A * B) / corr_gain_36IC0\n",
    "print ('corr_40_36: ', corr_40_36)"
   ]
  },
  {
   "cell_type": "code",
   "execution_count": null,
   "metadata": {},
   "outputs": [],
   "source": [
    "# calcolo source frax\n",
    "A = 298.56\n",
    "source_frax = corr_40_36 / A\n",
    "print ('source_frax: ', source_frax)"
   ]
  },
  {
   "cell_type": "markdown",
   "metadata": {},
   "source": [
    "qui sotto ho cambiato il riferimento alle colonne usando \":\" e \"values\" in modo da poter usare lo stesso codice con file con più riche di dati\n",
    "calcolo gain F/IC0\n",
    "A = airpipette_utilData.loc[:, '36F'].values\n",
    "B = airpipette_utilData.loc[:, '36IC0'].values\n",
    "calcolo gain F/IC1 \n",
    "A = airpipette_utilData.loc[:, '36F'].values\n",
    "C = airpipette_utilData.loc[:, '36IC1'].values"
   ]
  },
  {
   "cell_type": "code",
   "execution_count": null,
   "metadata": {},
   "outputs": [],
   "source": [
    "# Foglio sample_data\n",
    "print (\"SAMPLE_DATA\")"
   ]
  },
  {
   "cell_type": "code",
   "execution_count": null,
   "metadata": {},
   "outputs": [],
   "source": [
    "# importo file run.4 e creo la lista con i nomi delle colonne \n",
    "colNamesInitData=['40Ar F', 'err40Ar F', '38Ar IC0', 'err38Ar IC0', '36Ar IC1', 'err36Ar IC1','38Ar F', 'err38Ar F','36Ar IC0', 'err36Ar IC0 ', '39Ar F', 'err39Ar F', '37Ar IC0', 'err37Ar IC0' , '35Cl IC1', 'err35Cl IC1', '39Ar IC0',  'err39Ar IC0',  '37Ar IC1', 'err37Ar IC1', 'gainF/IC0', 'err gainF/IC0' , 'gainIC0/IC1', 'err gainIC0/IC1', '40F/36IC1',  'err40F/36IC1',  '40F/36IC0' ,'err40F/36IC0', 'Run', 'Path']"
   ]
  },
  {
   "cell_type": "code",
   "execution_count": null,
   "metadata": {},
   "outputs": [],
   "source": [
    "filePath = \"../test_data/Run4esempio.txt\"\n",
    "# filePath = \"C:\\\\Users\\\\teres\\\\Documents\\\\PyCalcolAr\\\\test_data\\\\Run4esempio.txt\"\n",
    "df_initData = pd.read_csv(filePath, header = None, names = colNamesInitData)"
   ]
  },
  {
   "cell_type": "code",
   "execution_count": null,
   "metadata": {},
   "outputs": [],
   "source": [
    "# creo un nuovo dataframe con le colonne utili\n",
    "sampleData_utilData = df_initData[['40Ar F', 'err40Ar F', '38Ar IC0', 'err38Ar IC0', '36Ar IC1', 'err36Ar IC1', '39Ar F', 'err39Ar F','37Ar IC1', 'err37Ar IC1']]"
   ]
  },
  {
   "cell_type": "code",
   "execution_count": null,
   "metadata": {},
   "outputs": [],
   "source": [
    "#eliminare ultima riga del dataframe che contiene \"dati sbagliati\"\n",
    "sampleData_V = sampleData_utilData.drop([5]) #da togliere nella versione finale (solo per il file Run4esempio.txt)\n",
    "\n",
    "sampleData_V = sampleData_V.replace([\"{\", \"}\"], [\"\", \"\"], regex=True)\n",
    "print (\"sampleData_V\")\n",
    "print (sampleData_V)\n",
    "\n",
    "sampleData_mV = pd.DataFrame()\n",
    "sampleData_mV [\"40Ar F\"] = pd.to_numeric(sampleData_V [\"40Ar F\"]) * 1000\n",
    "sampleData_mV [\"err40Ar F\"] = pd.to_numeric(sampleData_V [\"err40Ar F\"]) * 1000\n",
    "sampleData_mV [\"38Ar IC0\"] = pd.to_numeric(sampleData_V [\"38Ar IC0\"]) * 1000\n",
    "sampleData_mV [\"err38Ar IC0\"] = pd.to_numeric(sampleData_V [\"err38Ar IC0\"]) * 1000\n",
    "sampleData_mV [\"36Ar IC1\"] = pd.to_numeric(sampleData_V [\"36Ar IC1\"]) * 1000\n",
    "sampleData_mV [\"err36Ar IC1\"] = pd.to_numeric(sampleData_V [\"err36Ar IC1\"]) * 1000\n",
    "sampleData_mV [\"39Ar F\"] = pd.to_numeric(sampleData_V [\"39Ar F\"]) * 1000\n",
    "sampleData_mV [\"err39Ar F\"] = pd.to_numeric(sampleData_V [\"err39Ar F\"]) * 1000\n",
    "sampleData_mV [\"37Ar IC1\"] = pd.to_numeric(sampleData_V [\"37Ar IC1\"]) * 1000\n",
    "sampleData_mV [\"err37Ar IC1\"] = pd.to_numeric(sampleData_V [\"err37Ar IC1\"]) * 1000\n",
    "print(\"sampleData_mV\")\n",
    "print (sampleData_mV)"
   ]
  },
  {
   "cell_type": "code",
   "execution_count": null,
   "metadata": {},
   "outputs": [],
   "source": [
    "# applico le correzioni dei gain F/IC0 e F/IC1\n",
    "sampleData_gain = pd.DataFrame()\n",
    "sampleData_gain [\"38Ar F\"] = sampleData_mV [\"38Ar IC0\"] * gain_F_IC0\n",
    "sampleData_gain [\"err38Ar F\"] = sampleData_mV [\"err38Ar IC0\"] * gain_F_IC0\n",
    "sampleData_gain [\"36Ar F\"] = sampleData_mV [\"36Ar IC1\"] * gain_F_IC1\n",
    "sampleData_gain [\"err36Ar F\"] = sampleData_mV [\"err36Ar IC1\"] * gain_F_IC1\n",
    "sampleData_gain [\"37Ar F\"] = sampleData_mV [\"37Ar IC1\"] * gain_F_IC1\n",
    "sampleData_gain [\"err37Ar F\"] = sampleData_mV [\"err37Ar IC1\"] * gain_F_IC1\n",
    "print(\"sampleData_gain\")\n",
    "print (sampleData_gain)"
   ]
  },
  {
   "cell_type": "code",
   "execution_count": null,
   "metadata": {},
   "outputs": [],
   "source": [
    "# Foglio summary \n",
    "print(\"SUMMARY\")"
   ]
  },
  {
   "cell_type": "code",
   "execution_count": null,
   "metadata": {},
   "outputs": [],
   "source": [
    "# creo un dataframe con i dati del foglio sample_data \n",
    "summary_df = pd.DataFrame()\n",
    "summary_df[\"40Ar tot F\"] = sampleData_mV[\"40Ar F\"]\n",
    "summary_df[\"err40Ar tot F\"] = sampleData_mV[\"err40Ar F\"]\n",
    "summary_df[\"39Ar F\"] = sampleData_mV[\"39Ar F\"]\n",
    "summary_df[\"err39Ar F\"] = sampleData_mV[\"err39Ar F\"]\n",
    "summary_df[\"38Ar F\"] = sampleData_gain[\"38Ar F\"]\n",
    "summary_df[\"err38Ar F\"] = sampleData_gain[\"err38Ar F\"]\n",
    "summary_df[\"37Ar F\"] = sampleData_gain[\"37Ar F\"]\n",
    "summary_df[\"err37Ar F\"] = sampleData_gain[\"err37Ar F\"]\n",
    "summary_df[\"36Ar F\"] = sampleData_gain [\"36Ar F\"] \n",
    "summary_df[\"err36Ar F\"] = sampleData_gain [\"err36Ar F\"] \n",
    "print(\"summary_df\")\n",
    "print (summary_df)"
   ]
  },
  {
   "cell_type": "markdown",
   "metadata": {},
   "source": [
    "le operazioni che verranno svolte d'ora in poi saranno parte del dataframe summary_df"
   ]
  },
  {
   "cell_type": "code",
   "execution_count": null,
   "metadata": {},
   "outputs": [],
   "source": [
    "# calcolo 36Ar corr frax + errore \n",
    "summary_df[\"36Ar corr frax\"] = summary_df[\"36Ar F\"] * source_frax\n",
    "summary_df[\"err36Ar corr frax\"] = summary_df[\"err36Ar F\"]\n",
    "print(\"36Ar corr frax\")\n",
    "print(summary_df[\"36Ar corr frax\"])\n",
    "print(\"err36Ar corr frax\")\n",
    "print(summary_df[\"err36Ar corr frax\"])"
   ]
  },
  {
   "cell_type": "code",
   "execution_count": null,
   "metadata": {},
   "outputs": [],
   "source": [
    "# calcolo 39Ar corr frax + errore\n",
    "summary_df[\"39Ar corr frax\"] = summary_df[\"39Ar F\"] * (1 - ((1 - source_frax) / 4))\n",
    "summary_df[\"err39Ar corr frax\"] = summary_df[\"err39Ar F\"] \n",
    "print(\"39Ar corr frax\")\n",
    "print(summary_df[\"39Ar corr frax\"])\n",
    "print(\"err39Ar corr frax\")\n",
    "print(summary_df[\"err39Ar corr frax\"])"
   ]
  },
  {
   "cell_type": "code",
   "execution_count": null,
   "metadata": {},
   "outputs": [],
   "source": [
    "# calcolo 38tot-fc\n",
    "summary_df[\"38tot-fc\"] = summary_df[\"38Ar F\"] * ((1 + source_frax) / 2)\n",
    "print(\"38tot-fc\")\n",
    "print(summary_df[\"38tot-fc\"])"
   ]
  },
  {
   "cell_type": "code",
   "execution_count": null,
   "metadata": {},
   "outputs": [],
   "source": [
    "# calcolo 38Ar Cl\n",
    "summary_df[\"38Ar Cl\"] = summary_df[\"38tot-fc\"] - (summary_df[\"39Ar corr frax\"] / 89) - (summary_df[\"36Ar corr frax\"] * 0.18855)\n",
    "print(\"38Ar Cl\")\n",
    "print(summary_df[\"38Ar Cl\"])"
   ]
  },
  {
   "cell_type": "code",
   "execution_count": null,
   "metadata": {},
   "outputs": [],
   "source": [
    "# calcolo 37-fc\n",
    "summary_df[\"37-fc\"] = summary_df[\"37Ar F\"] * ((1 * 3 + source_frax) / 4)\n",
    "print(\"37-fc\")\n",
    "print(summary_df[\"37-fc\"])"
   ]
  },
  {
   "cell_type": "code",
   "execution_count": null,
   "metadata": {},
   "outputs": [],
   "source": [
    "# calcolo Ca/K\n",
    "summary_df[\"Ca/K\"] = 0.5 * (summary_df[\"37-fc\"] / summary_df[\"39Ar corr frax\"])\n",
    "print(\"Ca/K\")\n",
    "print(summary_df[\"Ca/K\"])"
   ]
  },
  {
   "cell_type": "code",
   "execution_count": null,
   "metadata": {},
   "outputs": [],
   "source": [
    "# calcolo 38Cl/39K\n",
    "summary_df[\"38Cl/39K\"] = summary_df[\"38Ar Cl\"] / summary_df[\"39Ar corr frax\"]\n",
    "print(\"38Cl/39K\")\n",
    "print(summary_df[\"38Cl/39K\"])"
   ]
  },
  {
   "cell_type": "code",
   "execution_count": null,
   "metadata": {},
   "outputs": [],
   "source": [
    "# calcolo 39Arcum\n",
    "summary_df[\"39Arcum\"] = pd.Series()\n",
    "for n in range (len(summary_df.index)):\n",
    "    if n==0: \n",
    "        summary_df[\"39Arcum\"][n] = summary_df[\"39Ar corr frax\"][n]\n",
    "    else:\n",
    "        summary_df[\"39Arcum\"][n] = summary_df[\"39Ar corr frax\"][n] + summary_df[\"39Arcum\"][n - 1]\n",
    "print(\"39Arcum\")\n",
    "print(summary_df[\"39Arcum\"])"
   ]
  },
  {
   "cell_type": "code",
   "execution_count": null,
   "metadata": {},
   "outputs": [],
   "source": [
    "# calcolo %39Ar\n",
    "summary_df[\"%39Ar\"] = pd.Series()\n",
    "for n in range(len(summary_df.index)):\n",
    "    summary_df[\"%39Ar\"][n] = summary_df[\"39Arcum\"][n] / summary_df[\"39Arcum\"][len(summary_df.index) - 1] \n",
    "print(\"%39Ar\")\n",
    "print(summary_df[\"%39Ar\"])"
   ]
  },
  {
   "cell_type": "code",
   "execution_count": null,
   "metadata": {},
   "outputs": [],
   "source": [
    "# calcolo 40/36fc\n",
    "summary_df[\"40/36fc\"] = summary_df[\"40Ar tot F\"] / summary_df[\"36Ar corr frax\"] \n",
    "print(\"40/36fc\")\n",
    "print(summary_df[\"40/36fc\"])"
   ]
  },
  {
   "cell_type": "code",
   "execution_count": null,
   "metadata": {},
   "outputs": [],
   "source": [
    "# calcolo error sum 2\n",
    "insqrt = pow(summary_df[\"err40Ar tot F\"]/summary_df[\"40Ar tot F\"], 2) + pow(summary_df[\"err36Ar corr frax\"] / summary_df[\"36Ar corr frax\"] ,2)\n",
    "summary_df[\"error sum 2\"] = (insqrt**(1/2)) * summary_df[\"40/36fc\"] \n",
    "print(\"error sum 2\")\n",
    "print(summary_df[\"error sum 2\"])"
   ]
  },
  {
   "cell_type": "code",
   "execution_count": null,
   "metadata": {},
   "outputs": [],
   "source": [
    "# calcolo 40Ar*/40tot\n",
    "summary_df[\"40Ar*/40tot\"] = (summary_df[\"40/36fc\"] - 298.56) / summary_df[\"40/36fc\"]\n",
    "print(\"40Ar*/40tot\")   \n",
    "print(summary_df[\"40Ar*/40tot\"]) "
   ]
  },
  {
   "cell_type": "code",
   "execution_count": null,
   "metadata": {},
   "outputs": [],
   "source": [
    "# calcolo err 40Ar*/40tot\n",
    "summary_df[\"err 40Ar*/40tot\"] = (1 / (summary_df[\"40Ar*/40tot\"] - 1)) * summary_df[\"error sum 2\"] * (summary_df[\"40Ar*/40tot\"] / summary_df[\"40/36fc\"])\n",
    "print(\"err 40Ar*/40tot\")\n",
    "print(summary_df[\"err 40Ar*/40tot\"])"
   ]
  },
  {
   "cell_type": "code",
   "execution_count": null,
   "metadata": {},
   "outputs": [],
   "source": [
    "# calcolo 40Ar*\n",
    "summary_df[\"40Ar*\"] = summary_df[\"40Ar*/40tot\"] * summary_df[\"40Ar tot F\"]\n",
    "print(\"40Ar*\")     \n",
    "print(summary_df[\"40Ar*\"])  "
   ]
  },
  {
   "cell_type": "code",
   "execution_count": null,
   "metadata": {},
   "outputs": [],
   "source": [
    "# calcolo err 40Ar*\n",
    "insqrt_1 = pow(summary_df[\"err40Ar tot F\"] / summary_df[\"40Ar tot F\"], 2) + pow(summary_df[\"err 40Ar*/40tot\"] / summary_df[\"40Ar*/40tot\"], 2)\n",
    "summary_df[\"err 40Ar*\"] = (insqrt_1**(1/2)) * summary_df[\"40Ar*\"]\n",
    "print(\"err 40Ar*\")\n",
    "print(summary_df[\"err 40Ar*\"])"
   ]
  },
  {
   "cell_type": "code",
   "execution_count": null,
   "metadata": {},
   "outputs": [],
   "source": [
    "# calcolo 40*/39\n",
    "summary_df[\"40*/39\"] = summary_df[\"40Ar*\"] / summary_df[\"39Ar corr frax\"] \n",
    "print(\"40*/39\")\n",
    "print(summary_df[\"40*/39\"])"
   ]
  },
  {
   "cell_type": "code",
   "execution_count": null,
   "metadata": {},
   "outputs": [],
   "source": [
    "# calcolo err 40*/39\n",
    "insqrt_2 = pow(summary_df[\"err39Ar F\"] / summary_df[\"39Ar F\"], 2) + pow(summary_df[\"err 40Ar*\"] / summary_df[\"40Ar*\"], 2)\n",
    "summary_df[\"err 40*/39\"] = (insqrt_2**(1/2)) * summary_df[\"40*/39\"]\n",
    "print(\"err 40*/39\")\n",
    "print(summary_df[\"err 40*/39\"])\n",
    "summary_df[\"J\"] = pd.Series()\n",
    "for n in range(len(summary_df.index)):\n",
    "    summary_df[\"J\"][n] = 0.00113276737584373\n",
    "print(\"J\")\n",
    "print(summary_df[\"J\"])"
   ]
  },
  {
   "cell_type": "code",
   "execution_count": null,
   "metadata": {},
   "outputs": [],
   "source": [
    "# calcolo err J (0.5 % * J)\n",
    "summary_df[\"err J\"] = 0.005 * summary_df[\"J\"]\n",
    "print(\"err J\")\n",
    "print(summary_df[\"err J\"])"
   ]
  },
  {
   "cell_type": "code",
   "execution_count": null,
   "metadata": {},
   "outputs": [],
   "source": [
    "# calcolo age\n",
    "insqrt_3 = 1 + summary_df[\"J\"] * summary_df[\"40*/39\"]\n",
    "summary_df[\"age\"] = 1804 * np.log(insqrt_3)\n",
    "print(\"age\")\n",
    "print(summary_df[\"age\"])"
   ]
  },
  {
   "cell_type": "code",
   "execution_count": null,
   "metadata": {},
   "outputs": [],
   "source": [
    "# calcolo error age\n",
    "insqrt_4 = pow(summary_df[\"err J\"]/summary_df[\"J\"], 2) + pow(summary_df[\"err 40*/39\"]/summary_df[\"40*/39\"], 2)\n",
    "summary_df[\"error age\"] = (insqrt_4**(1/2)) * summary_df[\"age\"] \n",
    "print(\"error age\")\n",
    "print(summary_df[\"error age\"])"
   ]
  },
  {
   "cell_type": "code",
   "execution_count": null,
   "metadata": {},
   "outputs": [],
   "source": [
    "# calcolo age +\n",
    "summary_df[\"age +\"] = summary_df[\"age\"] + summary_df[\"error age\"]\n",
    "print(\"age +\")\n",
    "print(summary_df[\"age +\"])"
   ]
  },
  {
   "cell_type": "code",
   "execution_count": null,
   "metadata": {},
   "outputs": [],
   "source": [
    "# calcolo age -\n",
    "summary_df[\"age -\"] = summary_df[\"age\"] - summary_df[\"error age\"]\n",
    "print(\"age -\")\n",
    "print(summary_df[\"age -\"])"
   ]
  }
 ],
 "metadata": {
  "kernelspec": {
   "display_name": "Python 3",
   "language": "python",
   "name": "python3"
  },
  "language_info": {
   "codemirror_mode": {
    "name": "ipython",
    "version": 3
   },
   "file_extension": ".py",
   "mimetype": "text/x-python",
   "name": "python",
   "nbconvert_exporter": "python",
   "pygments_lexer": "ipython3",
   "version": "3.7.8"
  }
 },
 "nbformat": 4,
 "nbformat_minor": 4
}
